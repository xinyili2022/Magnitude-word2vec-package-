{
 "cells": [
  {
   "cell_type": "code",
   "execution_count": 1,
   "id": "56519a55",
   "metadata": {},
   "outputs": [
    {
     "name": "stdout",
     "output_type": "stream",
     "text": [
      "3.7.1 (default, Oct 28 2018, 08:39:03) [MSC v.1912 64 bit (AMD64)]\n"
     ]
    }
   ],
   "source": [
    "import sys\n",
    "print(sys.version)"
   ]
  },
  {
   "cell_type": "code",
   "execution_count": 3,
   "id": "26e98b58",
   "metadata": {},
   "outputs": [
    {
     "name": "stdout",
     "output_type": "stream",
     "text": [
      "Collecting pymagnitude\n",
      "  Downloading pymagnitude-0.1.143.tar.gz (5.4 MB)\n",
      "     ---------------------------------------- 5.4/5.4 MB 20.4 MB/s eta 0:00:00\n",
      "  Preparing metadata (setup.py): started\n",
      "  Preparing metadata (setup.py): finished with status 'done'\n",
      "Building wheels for collected packages: pymagnitude\n",
      "  Building wheel for pymagnitude (setup.py): started\n",
      "  Building wheel for pymagnitude (setup.py): finished with status 'done'\n",
      "  Created wheel for pymagnitude: filename=pymagnitude-0.1.143-cp37-cp37m-win_amd64.whl size=85332678 sha256=96abb7a36e60de237457fd83f0ce5468060355fc598a79d253718bd259d5d1eb\n",
      "  Stored in directory: c:\\users\\xinyili0026\\appdata\\local\\pip\\cache\\wheels\\45\\82\\aa\\74ea6537f8e08bc9ed5b4db2a9befc6af92bd52ae204b12cfd\n",
      "Successfully built pymagnitude\n",
      "Installing collected packages: pymagnitude\n",
      "Successfully installed pymagnitude-0.1.143\n"
     ]
    }
   ],
   "source": [
    "!pip install pymagnitude"
   ]
  },
  {
   "cell_type": "code",
   "execution_count": 4,
   "id": "22db671d",
   "metadata": {},
   "outputs": [],
   "source": [
    "from pymagnitude import *\n",
    "file_path=\"C:/Users/xinyili0026/Downloads/GoogleNews-vectors-negative300.magnitude\"\n",
    "vectors=Magnitude(file_path)"
   ]
  },
  {
   "cell_type": "code",
   "execution_count": 5,
   "id": "bbdb59ec",
   "metadata": {},
   "outputs": [
    {
     "data": {
      "text/plain": [
       "300"
      ]
     },
     "execution_count": 5,
     "metadata": {},
     "output_type": "execute_result"
    }
   ],
   "source": [
    "#Question1: get the dimensionality of these word embedding\n",
    "#vectors.dim is the functior to query the dimensions of the vectors\n",
    "vectors.dim #The dimension is 300"
   ]
  },
  {
   "cell_type": "code",
   "execution_count": 9,
   "id": "2ee67e7e",
   "metadata": {},
   "outputs": [
    {
     "data": {
      "text/plain": [
       "[('picnics', 0.7400875),\n",
       " ('picnic_lunch', 0.721374),\n",
       " ('Picnic', 0.700534),\n",
       " ('potluck_picnic', 0.6683274),\n",
       " ('picnic_supper', 0.65189123),\n",
       " ('picnicking', 0.63550216),\n",
       " ('cookout', 0.63243484),\n",
       " ('Hiking_biking_camping', 0.6256069),\n",
       " ('barbeque', 0.62256277),\n",
       " ('barbecue', 0.6195759),\n",
       " ('picnic_lunches', 0.6143184),\n",
       " ('pig_roast', 0.61019313),\n",
       " ('Bring_picnic', 0.6033048),\n",
       " ('potluck', 0.60114384),\n",
       " ('picnic_tables', 0.6006263),\n",
       " ('Hawaiian_luau', 0.5982951),\n",
       " ('wiener_roast', 0.59388626),\n",
       " ('potluck_dinner', 0.5916978),\n",
       " ('fish_fry', 0.58994764),\n",
       " ('gazebo', 0.58934724),\n",
       " ('teddy_bear_picnic', 0.5891956),\n",
       " ('picnic_table', 0.58790123),\n",
       " ('potluck_lunch', 0.5856319),\n",
       " ('potluck_barbecue', 0.58500683),\n",
       " ('brunch', 0.5848722),\n",
       " ('blankets_lawn_chairs', 0.5800308),\n",
       " ('ox_roast', 0.57900274),\n",
       " ('shaded_picnic', 0.57885706),\n",
       " ('Easter_egg_hunt', 0.5787928),\n",
       " ('weiner_roast', 0.5769961),\n",
       " ('Easter_egg_hunts', 0.57512593),\n",
       " ('potluck_meal', 0.5742372),\n",
       " ('Picnics', 0.5731207),\n",
       " ('potluck_supper', 0.56369483),\n",
       " ('cookouts', 0.5595608),\n",
       " ('luau', 0.5594671),\n",
       " ('Easter_Egg_hunt', 0.5590111),\n",
       " ('Blankets_lawn_chairs', 0.55891085),\n",
       " ('lawn_chairs', 0.5586184),\n",
       " ('barbecues', 0.5568247),\n",
       " ('lawn_chairs_blankets', 0.55546176),\n",
       " ('Teddy_Bear_Picnic', 0.5532086),\n",
       " ('Easter_Egg_Hunt', 0.55005527),\n",
       " ('crawfish_boil', 0.54798466),\n",
       " ('picnic_suppers', 0.5479063),\n",
       " ('picnic_grove', 0.5471791),\n",
       " ('dinner', 0.5470622),\n",
       " ('egg_hunt', 0.5437031),\n",
       " ('Picnicking', 0.54295594),\n",
       " ('pancake_breakfast', 0.5426644),\n",
       " ('campout', 0.5411443),\n",
       " ('barbecue_cookout', 0.54103565),\n",
       " ('marshmallow_roast', 0.5408399),\n",
       " ('bar_b_ques', 0.5405741),\n",
       " ('weenie_roast', 0.53921765),\n",
       " ('Bring_lawn_chairs', 0.5390159),\n",
       " ('steak_fry', 0.5368758),\n",
       " ('picnickers', 0.5360812),\n",
       " ('pig_pickin', 0.5358745),\n",
       " ('leisurely_brunch', 0.53574026),\n",
       " ('Picnic_tables', 0.5353909),\n",
       " ('picnic_baskets', 0.5352671),\n",
       " ('chicken_barbecue', 0.53316337),\n",
       " ('buffet_brunch', 0.52770686),\n",
       " ('potluck_feast', 0.5266382),\n",
       " ('teddy_bears_picnic', 0.52586603),\n",
       " ('supper', 0.52543265),\n",
       " ('buffet_luncheon', 0.52347296),\n",
       " ('pancake_brunch', 0.522665),\n",
       " ('Ice_Cream_Social', 0.52157605),\n",
       " ('hog_roast', 0.52124393),\n",
       " ('roast_beef_dinner', 0.5197207),\n",
       " ('Wagon_rides', 0.51851434),\n",
       " ('potluck_dish', 0.51821834),\n",
       " ('spaghetti_dinner', 0.5180792),\n",
       " ('lawnchairs', 0.5177969),\n",
       " ('roast_pork_dinner', 0.5167049),\n",
       " ('overnight_campout', 0.5165541),\n",
       " ('roasted_marshmallows', 0.516505),\n",
       " ('grilled_hamburgers', 0.51546705),\n",
       " ('Harvest_Supper', 0.51453567),\n",
       " ('Kidsville', 0.5141678),\n",
       " ('shelterhouse', 0.51371217),\n",
       " ('picnics_barbecues', 0.513188),\n",
       " ('Lowcountry_boil', 0.5129322),\n",
       " ('hamburgers_hotdogs', 0.5128046),\n",
       " ('Pig_Roast', 0.5121639),\n",
       " ('chuck_wagon_breakfast', 0.5121374),\n",
       " ('picnic_pavilion', 0.51199836),\n",
       " ('chili_supper', 0.5115943),\n",
       " ('hayride', 0.51148117),\n",
       " ('Chicken_Barbecue', 0.511343),\n",
       " ('camping', 0.5101471),\n",
       " ('Edness_Kimball_Wilkins', 0.5089639),\n",
       " ('potluck_luncheon', 0.50858265),\n",
       " ('hotdogs_hamburgers', 0.5082189),\n",
       " ('Easter_Eggstravaganza', 0.5079075),\n",
       " ('homecooked_meal', 0.50769496),\n",
       " ('dining_al_fresco', 0.50755686),\n",
       " ('Pig_roast', 0.5070783)]"
      ]
     },
     "execution_count": 9,
     "metadata": {},
     "output_type": "execute_result"
    }
   ],
   "source": [
    "#Question2: top-5 most similar words to picnic\n",
    "#vectors.most_similiar is the function to query for the most similar (nearest neighbors) keys\n",
    "vectors.most_similar(\"picnic\", topn = 100) \n",
    "#The top-5 most similar words are 'picnics', 'picnic_lunch', 'Picnic', 'potluck_picnic', 'picnic_supper'\n",
    "\n",
    "#option2: by vector\n",
    "#vectors.most_similar(vectors.query(\"picnic\"), topn = 100)\n",
    "#We will get the same result as the first way, excpet for the word \"picnic\" itself"
   ]
  },
  {
   "cell_type": "code",
   "execution_count": 10,
   "id": "f95a6883",
   "metadata": {},
   "outputs": [
    {
     "data": {
      "text/plain": [
       "'tissue'"
      ]
     },
     "execution_count": 10,
     "metadata": {},
     "output_type": "execute_result"
    }
   ],
   "source": [
    "#Question3: which of these words is not like the others\n",
    "#vectors.doesnt_match is the function to query for which key doesn't match a list of keys\n",
    "vectors.doesnt_match(['tissue', 'papyrus', 'manila', 'newsprint', 'parchment', 'gazette'] )\n",
    "#The word which is not like the others is \"tissue\"."
   ]
  },
  {
   "cell_type": "code",
   "execution_count": 17,
   "id": "4b84e773",
   "metadata": {},
   "outputs": [
    {
     "data": {
      "text/plain": [
       "[('forearm', 0.48294652),\n",
       " ('shin', 0.47376165),\n",
       " ('elbow', 0.4679689),\n",
       " ('metacarpal_bone', 0.46781474),\n",
       " ('metacarpal_bones', 0.46605822),\n",
       " ('ankle', 0.46434426),\n",
       " ('shoulder', 0.46183354),\n",
       " ('thigh', 0.45393682),\n",
       " ('knee', 0.4455707),\n",
       " ('ulna_bone', 0.4423491)]"
      ]
     },
     "execution_count": 17,
     "metadata": {},
     "output_type": "execute_result"
    }
   ],
   "source": [
    "#Question4: Analogies\n",
    "#leg is to jump as X is to throw\n",
    "#leg - jump = X - throw\n",
    "#leg - jump + throw =X\n",
    "#Using the function below is to query for the most similar keys giving positive and negative examples (which, incidentally, solves analogies)\n",
    "vectors.most_similar(positive = [\"leg\", \"throw\"], negative = [\"jump\"])\n",
    "#X = \"forearm\""
   ]
  },
  {
   "cell_type": "code",
   "execution_count": null,
   "id": "f662d0d4",
   "metadata": {},
   "outputs": [],
   "source": []
  }
 ],
 "metadata": {
  "kernelspec": {
   "display_name": "Python 3 (ipykernel)",
   "language": "python",
   "name": "python3"
  },
  "language_info": {
   "codemirror_mode": {
    "name": "ipython",
    "version": 3
   },
   "file_extension": ".py",
   "mimetype": "text/x-python",
   "name": "python",
   "nbconvert_exporter": "python",
   "pygments_lexer": "ipython3",
   "version": "3.7.1"
  }
 },
 "nbformat": 4,
 "nbformat_minor": 5
}
