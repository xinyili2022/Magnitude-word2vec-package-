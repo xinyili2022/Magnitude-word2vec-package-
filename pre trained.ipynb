{
 "cells": [
  {
   "cell_type": "code",
   "execution_count": 1,
   "id": "4219db1d",
   "metadata": {},
   "outputs": [
    {
     "name": "stdout",
     "output_type": "stream",
     "text": [
      "3.7.1 (default, Oct 28 2018, 08:39:03) [MSC v.1912 64 bit (AMD64)]\n"
     ]
    }
   ],
   "source": [
    "import sys\n",
    "print(sys.version)"
   ]
  },
  {
   "cell_type": "code",
   "execution_count": 8,
   "id": "017ce63e",
   "metadata": {},
   "outputs": [
    {
     "name": "stdout",
     "output_type": "stream",
     "text": [
      "Collecting virtualenv\n",
      "  Downloading virtualenv-20.24.6-py3-none-any.whl (3.8 MB)\n",
      "     ---------------------------------------- 3.8/3.8 MB 40.0 MB/s eta 0:00:00\n",
      "Collecting platformdirs<4,>=3.9.1\n",
      "  Downloading platformdirs-3.11.0-py3-none-any.whl (17 kB)\n",
      "Collecting distlib<1,>=0.3.7\n",
      "  Downloading distlib-0.3.7-py2.py3-none-any.whl (468 kB)\n",
      "     ------------------------------------- 468.9/468.9 kB 28.7 MB/s eta 0:00:00\n",
      "Collecting filelock<4,>=3.12.2\n",
      "  Downloading filelock-3.12.2-py3-none-any.whl (10 kB)\n",
      "Collecting importlib-metadata>=6.6\n",
      "  Downloading importlib_metadata-6.7.0-py3-none-any.whl (22 kB)\n",
      "Requirement already satisfied: zipp>=0.5 in c:\\program files\\anaconda\\envs\\myenv\\lib\\site-packages (from importlib-metadata>=6.6->virtualenv) (3.11.0)\n",
      "Requirement already satisfied: typing-extensions>=3.6.4 in c:\\program files\\anaconda\\envs\\myenv\\lib\\site-packages (from importlib-metadata>=6.6->virtualenv) (4.4.0)\n",
      "Collecting typing-extensions>=3.6.4\n",
      "  Downloading typing_extensions-4.7.1-py3-none-any.whl (33 kB)\n",
      "Installing collected packages: distlib, typing-extensions, filelock, platformdirs, importlib-metadata, virtualenv\n",
      "  Attempting uninstall: typing-extensions\n",
      "    Found existing installation: typing_extensions 4.4.0\n",
      "    Uninstalling typing_extensions-4.4.0:\n",
      "      Successfully uninstalled typing_extensions-4.4.0\n",
      "  Attempting uninstall: importlib-metadata\n",
      "    Found existing installation: importlib-metadata 4.11.3\n",
      "    Uninstalling importlib-metadata-4.11.3:\n",
      "      Successfully uninstalled importlib-metadata-4.11.3\n",
      "Successfully installed distlib-0.3.7 filelock-3.12.2 importlib-metadata-6.7.0 platformdirs-3.11.0 typing-extensions-4.7.1 virtualenv-20.24.6\n"
     ]
    }
   ],
   "source": [
    "!pip install virtualenv"
   ]
  },
  {
   "cell_type": "code",
   "execution_count": 12,
   "id": "a7171935",
   "metadata": {},
   "outputs": [
    {
     "name": "stdout",
     "output_type": "stream",
     "text": [
      "created virtual environment CPython3.7.1.final.0-64 in 10242ms\n",
      "  creator CPython3Windows(dest=C:\\Users\\xinyili0026\\venv, clear=False, no_vcs_ignore=False, global=False)\n",
      "  seeder FromAppData(download=False, pip=bundle, setuptools=bundle, wheel=bundle, via=copy, app_data_dir=C:\\Users\\xinyili0026\\AppData\\Local\\pypa\\virtualenv)\n",
      "    added seed packages: pip==23.3.1, setuptools==68.0.0, wheel==0.41.2\n",
      "  activators BashActivator,BatchActivator,FishActivator,NushellActivator,PowerShellActivator,PythonActivator\n"
     ]
    }
   ],
   "source": [
    "!virtualenv -p python3.7 venv"
   ]
  },
  {
   "cell_type": "code",
   "execution_count": 13,
   "id": "ac1667fa",
   "metadata": {},
   "outputs": [
    {
     "name": "stderr",
     "output_type": "stream",
     "text": [
      "'source' is not recognized as an internal or external command,\n",
      "operable program or batch file.\n"
     ]
    }
   ],
   "source": [
    "!source venv/bin/activate"
   ]
  },
  {
   "cell_type": "code",
   "execution_count": null,
   "id": "ba6ffd00",
   "metadata": {},
   "outputs": [],
   "source": [
    "#deactive"
   ]
  },
  {
   "cell_type": "code",
   "execution_count": 14,
   "id": "5a01cfdf",
   "metadata": {},
   "outputs": [
    {
     "name": "stdout",
     "output_type": "stream",
     "text": [
      "Requirement already satisfied: pymagnitude in c:\\program files\\anaconda\\envs\\myenv\\lib\\site-packages (0.1.143)\n"
     ]
    }
   ],
   "source": [
    "#install magnitude package\n",
    "!pip install pymagnitude"
   ]
  },
  {
   "cell_type": "code",
   "execution_count": 15,
   "id": "2ec3e552",
   "metadata": {},
   "outputs": [
    {
     "name": "stdout",
     "output_type": "stream",
     "text": [
      "Requirement already satisfied: pymagnitude in c:\\program files\\anaconda\\envs\\myenv\\lib\\site-packages (0.1.143)\n",
      "Collecting flask\n",
      "  Downloading Flask-2.2.5-py3-none-any.whl (101 kB)\n",
      "     ---------------------------------------- 101.8/101.8 kB ? eta 0:00:00\n",
      "Collecting click>=8.0\n",
      "  Downloading click-8.1.7-py3-none-any.whl (97 kB)\n",
      "     ---------------------------------------- 97.9/97.9 kB ? eta 0:00:00\n",
      "Requirement already satisfied: Jinja2>=3.0 in c:\\program files\\anaconda\\envs\\myenv\\lib\\site-packages (from flask) (3.1.2)\n",
      "Requirement already satisfied: importlib-metadata>=3.6.0 in c:\\program files\\anaconda\\envs\\myenv\\lib\\site-packages (from flask) (6.7.0)\n",
      "Collecting itsdangerous>=2.0\n",
      "  Downloading itsdangerous-2.1.2-py3-none-any.whl (15 kB)\n",
      "Collecting Werkzeug>=2.2.2\n",
      "  Downloading Werkzeug-2.2.3-py3-none-any.whl (233 kB)\n",
      "     ------------------------------------- 233.6/233.6 kB 14.9 MB/s eta 0:00:00\n",
      "Requirement already satisfied: colorama in c:\\program files\\anaconda\\envs\\myenv\\lib\\site-packages (from click>=8.0->flask) (0.4.6)\n",
      "Requirement already satisfied: typing-extensions>=3.6.4 in c:\\program files\\anaconda\\envs\\myenv\\lib\\site-packages (from importlib-metadata>=3.6.0->flask) (4.7.1)\n",
      "Requirement already satisfied: zipp>=0.5 in c:\\program files\\anaconda\\envs\\myenv\\lib\\site-packages (from importlib-metadata>=3.6.0->flask) (3.11.0)\n",
      "Requirement already satisfied: MarkupSafe>=2.0 in c:\\program files\\anaconda\\envs\\myenv\\lib\\site-packages (from Jinja2>=3.0->flask) (2.1.1)\n",
      "Installing collected packages: Werkzeug, itsdangerous, click, flask\n",
      "Successfully installed Werkzeug-2.2.3 click-8.1.7 flask-2.2.5 itsdangerous-2.1.2\n"
     ]
    }
   ],
   "source": [
    "!pip install pymagnitude flask"
   ]
  },
  {
   "cell_type": "code",
   "execution_count": 16,
   "id": "c09d725d",
   "metadata": {},
   "outputs": [],
   "source": [
    "!pip freeze > requirements.txt"
   ]
  },
  {
   "cell_type": "code",
   "execution_count": 17,
   "id": "b4783e9d",
   "metadata": {},
   "outputs": [
    {
     "name": "stderr",
     "output_type": "stream",
     "text": [
      "'touch' is not recognized as an internal or external command,\n",
      "operable program or batch file.\n"
     ]
    }
   ],
   "source": [
    "#making model predictions\n",
    "!touch model.py"
   ]
  },
  {
   "cell_type": "code",
   "execution_count": 19,
   "id": "ab5f3195",
   "metadata": {},
   "outputs": [],
   "source": [
    "from pymagnitude import Magnitude "
   ]
  },
  {
   "cell_type": "code",
   "execution_count": null,
   "id": "b39e69d5",
   "metadata": {},
   "outputs": [],
   "source": [
    "vectors = Magnitude('http://magnitude.plasticity.ai/word2vec/heavy/GoogleNews-vectors-negative300.magnitude')"
   ]
  },
  {
   "cell_type": "code",
   "execution_count": 20,
   "id": "735f4c6d",
   "metadata": {},
   "outputs": [
    {
     "name": "stdout",
     "output_type": "stream",
     "text": [
      "[ 0.0040587  0.0671903 -0.0938735  0.0713696  0.0388996  0.0273262\n",
      "  0.0163957 -0.0031345  0.0726555 -0.0414715  0.0265225 -0.1928908\n",
      " -0.0014668 -0.0977313 -0.00432   -0.0274869  0.0166368  0.0498301\n",
      " -0.1478829 -0.0044606  0.0707266 -0.0485442  0.0739415 -0.04115\n",
      " -0.0319877  0.0819786 -0.0951595  0.1202353  0.1356665 -0.0282906\n",
      " -0.0258795 -0.0649399 -0.0298981 -0.0466153 -0.0337559  0.0430789\n",
      " -0.0011403  0.0237899  0.0145472  0.1138056  0.0245936 -0.0369707\n",
      "  0.0221824  0.0369707  0.0065101 -0.0406678  0.0691192 -0.0237899\n",
      " -0.0091623  0.0182443 -0.1099478  0.0281299  0.1131626  0.0459723\n",
      "  0.016235  -0.0443649  0.0536879 -0.1228071  0.1305228  0.0352026\n",
      "  0.072977   0.0700837 -0.0295766  0.0681547  0.0294158 -0.0271655\n",
      "  0.0196106  0.0335951 -0.0633325 -0.0298981  0.1620283  0.0130201\n",
      " -0.0233076 -0.000658  -0.0758704  0.084229   0.0295766 -0.0350418\n",
      "  0.0003466 -0.0193695  0.0167976 -0.0096044  0.063654  -0.0466153\n",
      " -0.1099478  0.026844  -0.0906587  0.0331129 -0.0343989 -0.0406678\n",
      " -0.0462938  0.0114931 -0.0387389 -0.0591532 -0.0707266 -0.0784423\n",
      "  0.0278084 -0.0247543 -0.0855149 -0.0700837 -0.07362   -0.0319877\n",
      "  0.0380959  0.0507946  0.0242721 -0.0906587  0.0469368 -0.0066306\n",
      "  0.0329522 -0.0626895 -0.0308625  0.0466153  0.0562598  0.1028751\n",
      " -0.0549739 -0.0286121 -0.0164761 -0.0819786 -0.0684762 -0.0310233\n",
      " -0.0403463 -0.031184  -0.1285939 -0.021861  -0.104161   0.036167\n",
      " -0.0005149  0.0143061  0.0514375 -0.062368  -0.0114931  0.0111716\n",
      " -0.0475797  0.0053045 -0.0466153 -0.0078764  0.0049428  0.0249151\n",
      "  0.0353633  0.041793   0.0352026 -0.003898  -0.0790852  0.0096044\n",
      "  0.0533665  0.0655829 -0.0925876  0.0549739 -0.0382567 -0.084229\n",
      "  0.1273079 -0.021861  -0.1517408 -0.0203339 -0.0475797 -0.0382567\n",
      "  0.0187265  0.0118146 -0.0352026  0.0620465 -0.0549739 -0.0059073\n",
      "  0.036167  -0.0406678 -0.0536879 -0.0475797  0.042436   0.0379352\n",
      "  0.0450079  0.0187265 -0.0266832 -0.0202535 -0.0220217  0.0919446\n",
      " -0.0646184  0.0237899  0.0405071 -0.0691192 -0.0726555  0.0704051\n",
      " -0.0488657 -0.0195302  0.0171994  0.021218  -0.0086801  0.0434004\n",
      "  0.0639754  0.0893727  0.0614036  0.0462938  0.0215395 -0.0475797\n",
      "  0.0165565  0.0290944  0.0403463  0.0880868  0.0176013 -0.1060899\n",
      " -0.0681547  0.0597961  0.0145472 -0.072977  -0.0453293 -0.0137435\n",
      " -0.0009444  0.013422   0.0239506 -0.0273262  0.0276477 -0.1105907\n",
      " -0.1318087  0.0057867 -0.0614036 -0.0158331 -0.063011   0.0332737\n",
      "  0.030541  -0.1009462 -0.0655829 -0.0055456  0.0401856  0.0482227\n",
      " -0.042436  -0.0774778 -0.0176817 -0.021861   0.0226647 -0.0119753\n",
      "  0.0694407 -0.0197713  0.063654   0.0169583 -0.0175209  0.009524\n",
      " -0.0906587  0.0278084  0.1080188  0.0059877  0.0049227  0.0155116\n",
      "  0.1240931 -0.0720126 -0.0111716  0.003677   0.1215212  0.0071128\n",
      "  0.0114127  0.0239506  0.0527235 -0.0543309 -0.0977313  0.0495086\n",
      " -0.0958024  0.0459723  0.0014768  0.0565813 -0.0723341  0.0307018\n",
      " -0.0626895  0.0052643 -0.0303803  0.051759  -0.0466153 -0.0176013\n",
      "  0.0118949  0.0777993 -0.0498301 -0.0022705 -0.0893727 -0.0234684\n",
      " -0.0543309  0.0607606 -0.0276477  0.0610821  0.0384174  0.0090819\n",
      " -0.0156724  0.0588317  0.0215395 -0.0116538  0.0755489  0.008881\n",
      " -0.0321485  0.0887298  0.0274869 -0.0430789 -0.0332737 -0.0024312\n",
      "  0.0234684  0.0491872 -0.0678333  0.0594747 -0.0520805  0.0195302\n",
      "  0.0945165 -0.0153509  0.0498301  0.1620283 -0.0906587  0.0184854]\n"
     ]
    }
   ],
   "source": [
    "cat_vector = vectors.query('cat')\n",
    "print(cat_vector)"
   ]
  },
  {
   "cell_type": "code",
   "execution_count": 21,
   "id": "4d11de75",
   "metadata": {},
   "outputs": [
    {
     "name": "stdout",
     "output_type": "stream",
     "text": [
      "0.76094574\n"
     ]
    }
   ],
   "source": [
    "print(vectors.similarity(\"cat\", \"dog\"))\n"
   ]
  },
  {
   "cell_type": "code",
   "execution_count": 22,
   "id": "890c33ce",
   "metadata": {},
   "outputs": [
    {
     "name": "stdout",
     "output_type": "stream",
     "text": [
      "[('cats', 0.8099379), ('dog', 0.76094574), ('kitten', 0.7464986), ('feline', 0.73262346), ('beagle', 0.71505845), ('puppy', 0.7075454), ('pup', 0.69342905), ('pet', 0.6891531), ('felines', 0.67559326), ('chihuahua', 0.6709762), ('pooch', 0.6699832), ('kitties', 0.6669642), ('dachshund', 0.66557825), ('poodle', 0.6621247), ('stray_cat', 0.6616334), ('Shih_Tzu', 0.6573934), ('tabby', 0.65550023), ('basset_hound', 0.6525443), ('golden_retriever', 0.65226245), ('Siamese_cat', 0.6521713), ('cocker_spaniel', 0.6466888), ('Maine_coon_cat', 0.64584076), ('Sheltie', 0.6445403), ('Doberman', 0.6432363), ('dogs', 0.641852), ('moggy', 0.6417042), ('kittens', 0.63871145), ('puppies', 0.63861835), ('miniature_poodle', 0.63825494), ('pug', 0.63752407), ('calico_cat', 0.6365404), ('Pomeranian', 0.63425153), ('poodle_mix', 0.6342421), ('schnauzer', 0.6338184), ('pit_bull', 0.63331556), ('mastiff_mix', 0.6313717), ('Yorkshire_terrier', 0.63062793), ('miniature_dachshund', 0.62911665), ('tabby_cat', 0.6285521), ('rabbit', 0.62613827), ('tom_cat', 0.624741), ('Lhasa_Apso', 0.62448764), ('border_collie', 0.62412524), ('sheltie', 0.62403685), ('pets', 0.62163734), ('raccoon', 0.6210865), ('tortoiseshell_cat', 0.62087625), ('Shitzu', 0.6204685), ('cockatiel', 0.6195415), ('Rottweiler_mix', 0.6186619), ('moggies', 0.61754274), ('moggie', 0.6170101), ('Rottweiller', 0.6168726), ('pit_bull_mix', 0.6168007), ('rotweiller', 0.61642885), ('dalmatian', 0.61628044), ('spaniel_mix', 0.61596036), ('shih_tzu', 0.6148747), ('Cairn_Terrier', 0.6134848), ('springer_spaniel', 0.6118569), ('rottweiler', 0.61109436), ('Labrador_retriever', 0.61088026), ('cairn_terrier', 0.6107933), ('mutt', 0.60861444), ('Rottweiler', 0.6085563), ('beagle_mix', 0.60842323), ('Basset_Hound', 0.6084178), ('gray_tabby', 0.60781723), ('fox_terrier', 0.6070893), ('German_shepherd', 0.60699135), ('labrador', 0.60679877), ('cockapoo', 0.6063577), ('housecat', 0.6063043), ('Staffie', 0.60577214), ('beagle_puppy', 0.605111), ('feral_kitten', 0.60418373), ('orange_tabby_cat', 0.6038959), ('dachsund', 0.6036002), ('Boston_Terrier', 0.6032389), ('Labrador_retriever_mix', 0.6029289), ('collie', 0.60236466), ('pitbull', 0.60218287), ('Dachshund', 0.60110176), ('border_collie_mix', 0.60051143), ('Basset_hound', 0.60017097), ('Rottie', 0.5996933), ('Brittany_Spaniel', 0.5996903), ('Lhasa_apso', 0.59955466), ('bullmastiff', 0.5994807), ('Patterdale_terrier', 0.5994333), ('orange_tabby', 0.59822875), ('tabbies', 0.5981909), ('bearded_collie', 0.597063), ('squirrel', 0.5965532), ('Great_Dane', 0.5960685), ('yorkie', 0.59475535), ('Labrador_puppy', 0.5941621), ('Cocker_Spaniel', 0.5940425), ('bull_terrier', 0.5940354), ('pot_bellied_pig', 0.5939918)]\n"
     ]
    }
   ],
   "source": [
    "print(vectors.most_similar(\"cat\", topn=100))"
   ]
  },
  {
   "cell_type": "code",
   "execution_count": 23,
   "id": "38ba6661",
   "metadata": {},
   "outputs": [],
   "source": [
    "def similarity(word1, word2):\n",
    "    return vectors.similarity(word1, word2)"
   ]
  },
  {
   "cell_type": "code",
   "execution_count": 29,
   "id": "0d2c25b6",
   "metadata": {},
   "outputs": [
    {
     "data": {
      "text/plain": [
       "0.69145405"
      ]
     },
     "execution_count": 29,
     "metadata": {},
     "output_type": "execute_result"
    }
   ],
   "source": [
    "vectors.distance('cat','dog')"
   ]
  },
  {
   "cell_type": "code",
   "execution_count": 30,
   "id": "25bd8519",
   "metadata": {},
   "outputs": [
    {
     "data": {
      "text/plain": [
       "300"
      ]
     },
     "execution_count": 30,
     "metadata": {},
     "output_type": "execute_result"
    }
   ],
   "source": [
    "vectors.dim #first question"
   ]
  },
  {
   "cell_type": "code",
   "execution_count": 31,
   "id": "03d68a22",
   "metadata": {},
   "outputs": [
    {
     "name": "stdout",
     "output_type": "stream",
     "text": [
      "[('picnics', 0.7400875), ('picnic_lunch', 0.7213739), ('Picnic', 0.700534), ('potluck_picnic', 0.6683274), ('picnic_supper', 0.65189123), ('picnicking', 0.63550216), ('cookout', 0.63243484), ('Hiking_biking_camping', 0.6256069), ('barbeque', 0.62256277), ('barbecue', 0.61957586), ('picnic_lunches', 0.6143184), ('pig_roast', 0.61019313), ('Bring_picnic', 0.6033048), ('potluck', 0.60114396), ('picnic_tables', 0.6006263), ('Hawaiian_luau', 0.5982951), ('wiener_roast', 0.59388626), ('potluck_dinner', 0.5916978), ('fish_fry', 0.58994764), ('gazebo', 0.5893472), ('teddy_bear_picnic', 0.5891956), ('picnic_table', 0.58790123), ('potluck_lunch', 0.58563185), ('potluck_barbecue', 0.58500683), ('brunch', 0.5848722), ('blankets_lawn_chairs', 0.5800308), ('ox_roast', 0.57900274), ('shaded_picnic', 0.57885695), ('Easter_egg_hunt', 0.5787928), ('weiner_roast', 0.5769961), ('Easter_egg_hunts', 0.57512593), ('potluck_meal', 0.5742371), ('Picnics', 0.5731207), ('potluck_supper', 0.56369483), ('cookouts', 0.5595608), ('luau', 0.5594671), ('Easter_Egg_hunt', 0.5590111), ('Blankets_lawn_chairs', 0.55891085), ('lawn_chairs', 0.5586184), ('barbecues', 0.5568247), ('lawn_chairs_blankets', 0.55546176), ('Teddy_Bear_Picnic', 0.5532086), ('Easter_Egg_Hunt', 0.55005527), ('crawfish_boil', 0.54798466), ('picnic_suppers', 0.5479063), ('picnic_grove', 0.5471791), ('dinner', 0.5470622), ('egg_hunt', 0.5437031), ('Picnicking', 0.54295594), ('pancake_breakfast', 0.5426644), ('campout', 0.5411443), ('barbecue_cookout', 0.54103565), ('marshmallow_roast', 0.54083985), ('bar_b_ques', 0.5405741), ('weenie_roast', 0.53921765), ('Bring_lawn_chairs', 0.5390159), ('steak_fry', 0.5368758), ('picnickers', 0.5360812), ('pig_pickin', 0.5358745), ('leisurely_brunch', 0.53574026), ('Picnic_tables', 0.5353909), ('picnic_baskets', 0.5352671), ('chicken_barbecue', 0.53316337), ('buffet_brunch', 0.52770686), ('potluck_feast', 0.5266382), ('teddy_bears_picnic', 0.52586603), ('supper', 0.5254327), ('buffet_luncheon', 0.523473), ('pancake_brunch', 0.522665), ('Ice_Cream_Social', 0.52157605), ('hog_roast', 0.52124393), ('roast_beef_dinner', 0.5197207), ('Wagon_rides', 0.5185143), ('potluck_dish', 0.51821834), ('spaghetti_dinner', 0.5180792), ('lawnchairs', 0.5177969), ('roast_pork_dinner', 0.5167049), ('overnight_campout', 0.5165541), ('roasted_marshmallows', 0.5165051), ('grilled_hamburgers', 0.51546705), ('Harvest_Supper', 0.51453567), ('Kidsville', 0.5141678), ('shelterhouse', 0.51371217), ('picnics_barbecues', 0.513188), ('Lowcountry_boil', 0.5129322), ('hamburgers_hotdogs', 0.5128046), ('Pig_Roast', 0.5121639), ('chuck_wagon_breakfast', 0.5121374), ('picnic_pavilion', 0.51199836), ('chili_supper', 0.5115943), ('hayride', 0.51148117), ('Chicken_Barbecue', 0.511343), ('camping', 0.5101471), ('Edness_Kimball_Wilkins', 0.5089639), ('potluck_luncheon', 0.50858265), ('hotdogs_hamburgers', 0.5082189), ('Easter_Eggstravaganza', 0.5079075), ('homecooked_meal', 0.5076951), ('dining_al_fresco', 0.50755686), ('Pig_roast', 0.5070783)]\n"
     ]
    }
   ],
   "source": [
    "print(vectors.most_similar(\"picnic\", topn=100))#second question"
   ]
  },
  {
   "cell_type": "code",
   "execution_count": 36,
   "id": "def1f25e",
   "metadata": {},
   "outputs": [
    {
     "data": {
      "text/plain": [
       "'tissue'"
      ]
     },
     "execution_count": 36,
     "metadata": {},
     "output_type": "execute_result"
    }
   ],
   "source": [
    "vectors.doesnt_match( ['tissue','papyrus',  'manila', 'newsprint', 'parchment', 'gazette'])"
   ]
  },
  {
   "cell_type": "code",
   "execution_count": 37,
   "id": "6e60ba1e",
   "metadata": {},
   "outputs": [
    {
     "data": {
      "text/plain": [
       "[('forearm', 0.48294652),\n",
       " ('shin', 0.47376162),\n",
       " ('elbow', 0.4679689),\n",
       " ('metacarpal_bone', 0.46781474),\n",
       " ('metacarpal_bones', 0.46605822),\n",
       " ('ankle', 0.46434426),\n",
       " ('shoulder', 0.46183354),\n",
       " ('thigh', 0.45393682),\n",
       " ('knee', 0.4455708),\n",
       " ('ulna_bone', 0.4423491)]"
      ]
     },
     "execution_count": 37,
     "metadata": {},
     "output_type": "execute_result"
    }
   ],
   "source": [
    "#leg is to jump as X is to throw\n",
    "#leg - jump = X- throw\n",
    "#leg - jump + throw =X\n",
    "#X= forearm\n",
    "vectors.most_similar(positive = [\"leg\", \"throw\"], negative = [\"jump\"]) # queen"
   ]
  },
  {
   "cell_type": "code",
   "execution_count": 38,
   "id": "8a40d2e1",
   "metadata": {},
   "outputs": [
    {
     "data": {
      "text/plain": [
       "[('forearm', 0.48294622117006725),\n",
       " ('shin', 0.47376165341517407),\n",
       " ('elbow', 0.4679689712335673),\n",
       " ('metacarpal_bone', 0.4678146346803942),\n",
       " ('metacarpal_bones', 0.4660581739867382),\n",
       " ('ankle', 0.46434397995287213),\n",
       " ('shoulder', 0.46183345881518534),\n",
       " ('thigh', 0.45393696675210293),\n",
       " ('legs', 0.4408922520133203),\n",
       " ('dislocating_finger', 0.43928321720602526)]"
      ]
     },
     "execution_count": 38,
     "metadata": {},
     "output_type": "execute_result"
    }
   ],
   "source": [
    "#vectors.most_similar_approx(positive = [\"woman\", \"king\"], negative = [\"man\"])\n",
    "vectors.most_similar_approx(positive =  [\"leg\", \"throw\"], negative = [\"jump\"])"
   ]
  },
  {
   "cell_type": "code",
   "execution_count": null,
   "id": "ebdc658a",
   "metadata": {},
   "outputs": [],
   "source": []
  }
 ],
 "metadata": {
  "kernelspec": {
   "display_name": "Python 3 (ipykernel)",
   "language": "python",
   "name": "python3"
  },
  "language_info": {
   "codemirror_mode": {
    "name": "ipython",
    "version": 3
   },
   "file_extension": ".py",
   "mimetype": "text/x-python",
   "name": "python",
   "nbconvert_exporter": "python",
   "pygments_lexer": "ipython3",
   "version": "3.7.1"
  }
 },
 "nbformat": 4,
 "nbformat_minor": 5
}
